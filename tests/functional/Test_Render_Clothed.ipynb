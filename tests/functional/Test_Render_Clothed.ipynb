{
 "cells": [
  {
   "cell_type": "code",
   "execution_count": 1,
   "id": "a717dcdb",
   "metadata": {},
   "outputs": [],
   "source": [
    "from typing import Dict, Tuple, List\n",
    "\n",
    "import torch\n",
    "import torch.nn as nn\n",
    "import numpy as np\n",
    "from random import randint\n",
    "from scipy.io import loadmat\n",
    "import matplotlib\n",
    "import sys\n",
    "\n",
    "sys.path.append('/garmentor')\n",
    "\n",
    "from configs import paths\n",
    "\n",
    "# Data structures and functions for rendering\n",
    "from pytorch3d.structures import Meshes\n",
    "from pytorch3d.renderer import (\n",
    "    PerspectiveCameras,\n",
    "    OrthographicCameras,\n",
    "    PointLights,\n",
    "    RasterizationSettings,\n",
    "    MeshRasterizer,\n",
    "    HardPhongShader,\n",
    "    TexturesUV,\n",
    "    TexturesVertex,\n",
    "    BlendParams,\n",
    "    Textures)\n",
    "\n",
    "from configs.poseMF_shapeGaussian_net_config import get_cfg_defaults\n",
    "from models.parametric_model import ParametricModel\n",
    "from configs.poseMF_shapeGaussian_net_config import get_cfg_defaults\n",
    "from utils.augmentation.smpl_augmentation import (\n",
    "    normal_sample_shape_numpy,\n",
    "    normal_sample_style_numpy\n",
    ")\n",
    "from utils.augmentation.cam_augmentation import augment_cam_t_numpy\n",
    "from utils.garment_classes import GarmentClasses\n",
    "from utils.colors import NoColors, GarmentColors, BodyColors, N\n",
    "from utils.mesh_utils import concatenate_meshes\n",
    "from renderers.surreal_renderer import SurrealRenderer\n",
    "\n",
    "from tailornet_for_garmentor.models.smpl4garment_utils import SMPL4GarmentOutput\n"
   ]
  },
  {
   "cell_type": "code",
   "execution_count": 2,
   "id": "4a22c5de",
   "metadata": {},
   "outputs": [],
   "source": [
    "def _load_poses() -> np.ndarray:\n",
    "    '''Load poses. Adapted from the original HierProb3D code.'''\n",
    "    data = np.load(paths.TRAIN_POSES_PATH)\n",
    "    fnames = data['fnames']\n",
    "    poses = data['poses']\n",
    "    indices = [i for i, x in enumerate(fnames)\n",
    "                if (x.startswith('h36m') or x.startswith('up3d') or x.startswith('3dpw'))]\n",
    "    return np.stack([poses[i] for i in indices], axis=0)\n",
    "\n",
    "\n",
    "cfg = get_cfg_defaults()\n",
    "\n",
    "x_axis = np.array([1., 0., 0.], dtype=np.float32)\n",
    "delta_betas_std_vector = np.ones(\n",
    "    cfg.MODEL.NUM_SMPL_BETAS, \n",
    "    dtype=np.float32) * \\\n",
    "        cfg.TRAIN.SYNTH_DATA.AUGMENT.SMPL.SHAPE_STD\n",
    "mean_shape = np.zeros(\n",
    "    cfg.MODEL.NUM_SMPL_BETAS, \n",
    "    dtype=np.float32)\n",
    "delta_style_std_vector = np.ones(\n",
    "    cfg.MODEL.NUM_STYLE_PARAMS, \n",
    "    dtype=np.float32) * \\\n",
    "        cfg.TRAIN.SYNTH_DATA.AUGMENT.GARMENTOR.STYLE_STD\n",
    "mean_style = np.zeros(\n",
    "    cfg.MODEL.NUM_STYLE_PARAMS, \n",
    "    dtype=np.float32)\n",
    "mean_cam_t = np.array(\n",
    "    cfg.TRAIN.SYNTH_DATA.MEAN_CAM_T, \n",
    "    dtype=np.float32)"
   ]
  },
  {
   "cell_type": "code",
   "execution_count": 3,
   "id": "2929f941",
   "metadata": {},
   "outputs": [],
   "source": [
    "poses = _load_poses()"
   ]
  },
  {
   "cell_type": "code",
   "execution_count": 4,
   "id": "f3acca3d",
   "metadata": {},
   "outputs": [
    {
     "name": "stdout",
     "output_type": "stream",
     "text": [
      "Initializing (male, t-shirt, pant) model...\n",
      "USING LF LOG DIR:  /data/tailornet/weights/t-shirt_male_weights/tn_orig_lf/t-shirt_male\n",
      "USING HF LOG DIR:  /data/tailornet/weights/t-shirt_male_weights/tn_orig_hf/t-shirt_male\n",
      "USING SS2G LOG DIR:  /data/tailornet/weights/t-shirt_male_weights/tn_orig_ss2g/t-shirt_male\n",
      "loading /data/tailornet/weights/t-shirt_male_weights/tn_orig_hf/t-shirt_male/008_000/lin.pth.tar\n",
      "loading /data/tailornet/weights/t-shirt_male_weights/tn_orig_hf/t-shirt_male/006_023/lin.pth.tar\n",
      "loading /data/tailornet/weights/t-shirt_male_weights/tn_orig_hf/t-shirt_male/008_002/lin.pth.tar\n",
      "loading /data/tailornet/weights/t-shirt_male_weights/tn_orig_hf/t-shirt_male/006_016/lin.pth.tar\n",
      "loading /data/tailornet/weights/t-shirt_male_weights/tn_orig_hf/t-shirt_male/007_018/lin.pth.tar\n",
      "loading /data/tailornet/weights/t-shirt_male_weights/tn_orig_hf/t-shirt_male/008_009/lin.pth.tar\n",
      "loading /data/tailornet/weights/t-shirt_male_weights/tn_orig_hf/t-shirt_male/008_007/lin.pth.tar\n",
      "loading /data/tailornet/weights/t-shirt_male_weights/tn_orig_hf/t-shirt_male/008_018/lin.pth.tar\n",
      "loading /data/tailornet/weights/t-shirt_male_weights/tn_orig_hf/t-shirt_male/004_012/lin.pth.tar\n",
      "loading /data/tailornet/weights/t-shirt_male_weights/tn_orig_hf/t-shirt_male/006_006/lin.pth.tar\n",
      "loading /data/tailornet/weights/t-shirt_male_weights/tn_orig_hf/t-shirt_male/002_022/lin.pth.tar\n",
      "loading /data/tailornet/weights/t-shirt_male_weights/tn_orig_hf/t-shirt_male/003_019/lin.pth.tar\n",
      "loading /data/tailornet/weights/t-shirt_male_weights/tn_orig_hf/t-shirt_male/002_005/lin.pth.tar\n",
      "loading /data/tailornet/weights/t-shirt_male_weights/tn_orig_hf/t-shirt_male/005_005/lin.pth.tar\n",
      "loading /data/tailornet/weights/t-shirt_male_weights/tn_orig_hf/t-shirt_male/003_020/lin.pth.tar\n",
      "loading /data/tailornet/weights/t-shirt_male_weights/tn_orig_hf/t-shirt_male/004_024/lin.pth.tar\n",
      "loading /data/tailornet/weights/t-shirt_male_weights/tn_orig_hf/t-shirt_male/002_011/lin.pth.tar\n",
      "loading /data/tailornet/weights/t-shirt_male_weights/tn_orig_hf/t-shirt_male/001_006/lin.pth.tar\n",
      "loading /data/tailornet/weights/t-shirt_male_weights/tn_orig_hf/t-shirt_male/005_004/lin.pth.tar\n",
      "loading /data/tailornet/weights/t-shirt_male_weights/tn_orig_hf/t-shirt_male/002_024/lin.pth.tar\n",
      "loading /data/tailornet/weights/t-shirt_male_weights/tn_orig_lf/t-shirt_male/lin.pth.tar\n",
      "loading /data/tailornet/weights/t-shirt_male_weights/tn_orig_ss2g/t-shirt_male/lin.pth.tar\n",
      "USING LF LOG DIR:  /data/tailornet/weights/pant_male_weights/tn_orig_lf/pant_male\n",
      "USING HF LOG DIR:  /data/tailornet/weights/pant_male_weights/tn_orig_hf/pant_male\n",
      "USING SS2G LOG DIR:  /data/tailornet/weights/pant_male_weights/tn_orig_ss2g/pant_male\n",
      "loading /data/tailornet/weights/pant_male_weights/tn_orig_hf/pant_male/007_018/lin.pth.tar\n",
      "loading /data/tailornet/weights/pant_male_weights/tn_orig_hf/pant_male/006_006/lin.pth.tar\n",
      "loading /data/tailornet/weights/pant_male_weights/tn_orig_hf/pant_male/006_002/lin.pth.tar\n",
      "loading /data/tailornet/weights/pant_male_weights/tn_orig_hf/pant_male/000_016/lin.pth.tar\n",
      "loading /data/tailornet/weights/pant_male_weights/tn_orig_hf/pant_male/006_014/lin.pth.tar\n",
      "loading /data/tailornet/weights/pant_male_weights/tn_orig_hf/pant_male/004_017/lin.pth.tar\n",
      "loading /data/tailornet/weights/pant_male_weights/tn_orig_hf/pant_male/005_000/lin.pth.tar\n",
      "loading /data/tailornet/weights/pant_male_weights/tn_orig_hf/pant_male/008_017/lin.pth.tar\n",
      "loading /data/tailornet/weights/pant_male_weights/tn_orig_hf/pant_male/005_017/lin.pth.tar\n",
      "loading /data/tailornet/weights/pant_male_weights/tn_orig_hf/pant_male/002_022/lin.pth.tar\n",
      "loading /data/tailornet/weights/pant_male_weights/tn_orig_hf/pant_male/000_019/lin.pth.tar\n",
      "loading /data/tailornet/weights/pant_male_weights/tn_orig_hf/pant_male/002_005/lin.pth.tar\n",
      "loading /data/tailornet/weights/pant_male_weights/tn_orig_hf/pant_male/000_022/lin.pth.tar\n",
      "loading /data/tailornet/weights/pant_male_weights/tn_orig_hf/pant_male/000_005/lin.pth.tar\n",
      "loading /data/tailornet/weights/pant_male_weights/tn_orig_hf/pant_male/000_014/lin.pth.tar\n",
      "loading /data/tailornet/weights/pant_male_weights/tn_orig_hf/pant_male/001_010/lin.pth.tar\n",
      "loading /data/tailornet/weights/pant_male_weights/tn_orig_hf/pant_male/003_024/lin.pth.tar\n",
      "loading /data/tailornet/weights/pant_male_weights/tn_orig_hf/pant_male/002_024/lin.pth.tar\n",
      "loading /data/tailornet/weights/pant_male_weights/tn_orig_hf/pant_male/006_019/lin.pth.tar\n",
      "loading /data/tailornet/weights/pant_male_weights/tn_orig_hf/pant_male/003_021/lin.pth.tar\n",
      "loading /data/tailornet/weights/pant_male_weights/tn_orig_lf/pant_male/lin.pth.tar\n",
      "loading /data/tailornet/weights/pant_male_weights/tn_orig_ss2g/pant_male/lin.pth.tar\n"
     ]
    }
   ],
   "source": [
    "gender = 'male'\n",
    "upper_class = 't-shirt'\n",
    "lower_class = 'pant'\n",
    "\n",
    "pose = poses[0]\n",
    "\n",
    "shape: np.ndarray = normal_sample_shape_numpy(\n",
    "    mean_params=mean_shape,\n",
    "    std_vector=delta_betas_std_vector)\n",
    "\n",
    "cam_t: np.ndarray = augment_cam_t_numpy(\n",
    "    mean_cam_t,\n",
    "    xy_std=cfg.TRAIN.SYNTH_DATA.AUGMENT.CAM.XY_STD,\n",
    "    delta_z_range=cfg.TRAIN.SYNTH_DATA.AUGMENT.CAM.DELTA_Z_RANGE)\n",
    "    \n",
    "style_vector: np.ndarray = normal_sample_style_numpy(\n",
    "            num_garment_classes=GarmentClasses.NUM_CLASSES,\n",
    "            mean_params=mean_style,\n",
    "            std_vector=delta_style_std_vector)\n",
    "    \n",
    "garment_classes = GarmentClasses(upper_class, lower_class)\n",
    "\n",
    "parametric_model = ParametricModel(\n",
    "                        gender=gender, \n",
    "                        garment_classes=garment_classes\n",
    "                    )"
   ]
  },
  {
   "cell_type": "code",
   "execution_count": 6,
   "id": "80646350",
   "metadata": {},
   "outputs": [
    {
     "name": "stdout",
     "output_type": "stream",
     "text": [
      "Running TailorNet (upper -> t-shirt(label=0))...\n",
      "Running SMPL4Garment (t-shirt)...\n",
      "Running TailorNet (lower -> pant(label=3))...\n",
      "Running SMPL4Garment (pant)...\n",
      "\n",
      "Renderer projection type: perspective\n"
     ]
    }
   ],
   "source": [
    "style_vector = -np.ones((4,4)) * 1.5\n",
    "\n",
    "smpl_output_dict = parametric_model.run(\n",
    "            pose=pose,\n",
    "            shape=shape,\n",
    "            style_vector=style_vector\n",
    "        )\n",
    "device = 'cuda:0'\n",
    "\n",
    "\n",
    "renderer = SurrealRenderer(device=device, batch_size=1)\n",
    "\n",
    "rgb, seg_maps = renderer(smpl_output_dict=smpl_output_dict,\n",
    "                         garment_classes=garment_classes)"
   ]
  },
  {
   "cell_type": "code",
   "execution_count": 7,
   "id": "f835b9e7",
   "metadata": {},
   "outputs": [
    {
     "name": "stdout",
     "output_type": "stream",
     "text": [
      "5\n",
      "(256, 256)\n"
     ]
    },
    {
     "data": {
      "image/png": "[encoded data removed]",
      "text/plain": [
       "<Figure size 1000x1000 with 1 Axes>"
      ]
     },
     "metadata": {},
     "output_type": "display_data"
    }
   ],
   "source": [
    "import matplotlib.pyplot as plt\n",
    "\n",
    "img = rgb\n",
    "print(len(seg_maps))\n",
    "print(seg_maps[0].shape)\n",
    "#img = seg_maps[0].cpu().numpy().astype(np.float32)\n",
    "\n",
    "plt.figure(figsize=(10, 10))\n",
    "plt.imshow(img[..., :3])\n",
    "plt.axis(\"off\");"
   ]
  },
  {
   "cell_type": "code",
   "execution_count": 8,
   "id": "fba2e600",
   "metadata": {},
   "outputs": [
    {
     "name": "stdout",
     "output_type": "stream",
     "text": [
      "5\n",
      "(5, 256, 256)\n",
      "[0. 1.]\n",
      "(256, 256)\n",
      "0.0\n"
     ]
    },
    {
     "data": {
      "image/png": "[encoded data removed]",
      "text/plain": [
       "<Figure size 1000x1000 with 1 Axes>"
      ]
     },
     "metadata": {},
     "output_type": "display_data"
    }
   ],
   "source": [
    "print(len(seg_maps))\n",
    "print(seg_maps.shape)\n",
    "#print(seg_maps[0])\n",
    "seg = seg_maps[3].astype(np.float32)\n",
    "\n",
    "print(np.unique(seg))\n",
    "print(seg.shape)\n",
    "print(seg[0, 0])\n",
    "\n",
    "plt.figure(figsize=(10, 10))\n",
    "plt.imshow(seg)\n",
    "plt.axis(\"off\");"
   ]
  },
  {
   "cell_type": "markdown",
   "id": "77de1190",
   "metadata": {},
   "source": [
    "## Test segmentation maps"
   ]
  },
  {
   "cell_type": "code",
   "execution_count": 9,
   "id": "68004031",
   "metadata": {},
   "outputs": [
    {
     "name": "stdout",
     "output_type": "stream",
     "text": [
      "(256, 256)\n",
      "float64\n"
     ]
    },
    {
     "data": {
      "image/png": "[encoded data removed]",
      "text/plain": [
       "<Figure size 1000x1000 with 1 Axes>"
      ]
     },
     "metadata": {},
     "output_type": "display_data"
    }
   ],
   "source": [
    "img = rgb\n",
    "\n",
    "print(seg_maps[2].shape)\n",
    "print(seg_maps.dtype)\n",
    "\n",
    "img[seg_maps[0] == 1.] = 1.\n",
    "\n",
    "plt.figure(figsize=(10, 10))\n",
    "plt.imshow(img[..., :3])\n",
    "plt.axis(\"off\");"
   ]
  }
 ],
 "metadata": {
  "kernelspec": {
   "display_name": "base",
   "language": "python",
   "name": "python3"
  },
  "language_info": {
   "codemirror_mode": {
    "name": "ipython",
    "version": 3
   },
   "file_extension": ".py",
   "mimetype": "text/x-python",
   "name": "python",
   "nbconvert_exporter": "python",
   "pygments_lexer": "ipython3",
   "version": "3.7.7"
  },
  "vscode": {
   "interpreter": {
    "hash": "d4d1e4263499bec80672ea0156c357c1ee493ec2b1c70f0acce89fc37c4a6abe"
   }
  }
 },
 "nbformat": 4,
 "nbformat_minor": 5
}
